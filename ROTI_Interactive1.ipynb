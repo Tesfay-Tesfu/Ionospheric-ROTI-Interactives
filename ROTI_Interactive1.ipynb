{
 "cells": [
  {
   "cell_type": "markdown",
   "metadata": {},
   "source": [
    "# ROTI Analysis Developed on October 01/2024\n",
    "### By T.Y\n",
    "### UNIVAP-NASA"
   ]
  },
  {
   "cell_type": "code",
   "execution_count": null,
   "metadata": {},
   "outputs": [],
   "source": []
  },
  {
   "cell_type": "markdown",
   "metadata": {},
   "source": [
    "# First Import all the necessay files from the Station1 and Station2"
   ]
  },
  {
   "cell_type": "code",
   "execution_count": null,
   "metadata": {},
   "outputs": [],
   "source": []
  },
  {
   "cell_type": "markdown",
   "metadata": {},
   "source": [
    "## Station-A"
   ]
  },
  {
   "cell_type": "code",
   "execution_count": 2,
   "metadata": {},
   "outputs": [],
   "source": [
    "from Tes_Interactive_Files import select_files\n",
    "file_paths_active, file_paths_quiet, file_paths_roti, file_paths_roti_quiet = select_files()"
   ]
  },
  {
   "cell_type": "markdown",
   "metadata": {},
   "source": [
    "## Station-B"
   ]
  },
  {
   "cell_type": "code",
   "execution_count": 3,
   "metadata": {},
   "outputs": [],
   "source": [
    "from Tes_Interactive_Files import select_files\n",
    "file_paths_active2, file_paths_quiet2, file_paths_roti2, file_paths_roti_quiet2 = select_files()"
   ]
  },
  {
   "cell_type": "markdown",
   "metadata": {},
   "source": [
    "## Plotting Station-A and ## Station-B"
   ]
  },
  {
   "cell_type": "code",
   "execution_count": 1,
   "metadata": {},
   "outputs": [],
   "source": [
    "import importlib\n",
    "import matplotlib.pyplot as plt\n",
    "\n",
    "\n",
    "from Tesfay_ROTI_plot5 import read_and_resample, process_and_plot\n",
    "process_and_plot(file_paths_quiet, file_paths_roti_quiet, file_paths_active, file_paths_roti, \n",
    "                 file_paths_quiet2, file_paths_roti_quiet2, file_paths_active2, file_paths_roti2)"
   ]
  },
  {
   "cell_type": "code",
   "execution_count": null,
   "metadata": {},
   "outputs": [],
   "source": []
  },
  {
   "cell_type": "code",
   "execution_count": 17,
   "metadata": {},
   "outputs": [],
   "source": [
    "from Tes_Interactive_Files import select_files\n",
    "file_paths_active, file_paths_quiet, file_paths_roti, file_paths_roti_quiet = select_files()"
   ]
  },
  {
   "cell_type": "code",
   "execution_count": 19,
   "metadata": {},
   "outputs": [],
   "source": [
    "from Tes_Interactive_Files import select_files\n",
    "file_paths_active2, file_paths_quiet2, file_paths_roti2, file_paths_roti_quiet2 = select_files()"
   ]
  },
  {
   "cell_type": "code",
   "execution_count": null,
   "metadata": {},
   "outputs": [],
   "source": []
  }
 ],
 "metadata": {
  "kernelspec": {
   "display_name": "Python 3",
   "language": "python",
   "name": "python3"
  },
  "language_info": {
   "codemirror_mode": {
    "name": "ipython",
    "version": 3
   },
   "file_extension": ".py",
   "mimetype": "text/x-python",
   "name": "python",
   "nbconvert_exporter": "python",
   "pygments_lexer": "ipython3",
   "version": "3.7.4"
  }
 },
 "nbformat": 4,
 "nbformat_minor": 2
}
